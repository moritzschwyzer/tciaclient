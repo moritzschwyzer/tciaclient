{
 "cells": [
  {
   "cell_type": "code",
   "execution_count": 98,
   "metadata": {},
   "outputs": [
    {
     "name": "stdout",
     "output_type": "stream",
     "text": [
      "The autoreload extension is already loaded. To reload it, use:\n",
      "  %reload_ext autoreload\n"
     ]
    }
   ],
   "source": [
    "#hide\n",
    "from tciaclient.core import *\n",
    "%load_ext autoreload\n",
    "%autoreload 2"
   ]
  },
  {
   "cell_type": "markdown",
   "metadata": {},
   "source": [
    "# TCIA (The Cancer Imaging Archive) Download Client for Python\n",
    "\n",
    "> This Python package uses the official TCIA REST API to enable downloads from www.cancerimagingarchive.net from within Python scripts and Jupyter Notebooks."
   ]
  },
  {
   "cell_type": "markdown",
   "metadata": {},
   "source": [
    "The documentation can be found at https://moritzschwyzer.github.io/tciaclient/."
   ]
  },
  {
   "cell_type": "markdown",
   "metadata": {},
   "source": [
    "## Install"
   ]
  },
  {
   "cell_type": "markdown",
   "metadata": {},
   "source": [
    "`pip install tciaclient`"
   ]
  },
  {
   "cell_type": "markdown",
   "metadata": {},
   "source": [
    "## How to use"
   ]
  },
  {
   "cell_type": "markdown",
   "metadata": {},
   "source": [
    "Step 1: Import the `TCIAClient` from the `tciaclient.core` package."
   ]
  },
  {
   "cell_type": "code",
   "execution_count": 99,
   "metadata": {},
   "outputs": [],
   "source": [
    "from tciaclient.core import TCIAClient"
   ]
  },
  {
   "cell_type": "markdown",
   "metadata": {},
   "source": [
    "Step 2: Create an instance of the `TCIAClient`."
   ]
  },
  {
   "cell_type": "code",
   "execution_count": 100,
   "metadata": {},
   "outputs": [],
   "source": [
    "tc = TCIAClient()"
   ]
  },
  {
   "cell_type": "markdown",
   "metadata": {},
   "source": [
    "Step 3: Choose a collection name from https://wiki.cancerimagingarchive.net/display/Public/Collections."
   ]
  },
  {
   "cell_type": "code",
   "execution_count": 140,
   "metadata": {
    "scrolled": true
   },
   "outputs": [],
   "source": [
    "collection_name = \"NSCLC-Radiomics\"\n",
    "collection = tc.get_patient(collection_name)"
   ]
  },
  {
   "cell_type": "code",
   "execution_count": 141,
   "metadata": {},
   "outputs": [
    {
     "data": {
      "text/html": [
       "<div>\n",
       "<style scoped>\n",
       "    .dataframe tbody tr th:only-of-type {\n",
       "        vertical-align: middle;\n",
       "    }\n",
       "\n",
       "    .dataframe tbody tr th {\n",
       "        vertical-align: top;\n",
       "    }\n",
       "\n",
       "    .dataframe thead th {\n",
       "        text-align: right;\n",
       "    }\n",
       "</style>\n",
       "<table border=\"1\" class=\"dataframe\">\n",
       "  <thead>\n",
       "    <tr style=\"text-align: right;\">\n",
       "      <th></th>\n",
       "      <th>PatientID</th>\n",
       "      <th>PatientName</th>\n",
       "      <th>PatientSex</th>\n",
       "      <th>Collection</th>\n",
       "    </tr>\n",
       "  </thead>\n",
       "  <tbody>\n",
       "    <tr>\n",
       "      <td>0</td>\n",
       "      <td>LUNG1-001</td>\n",
       "      <td>LUNG1-001</td>\n",
       "      <td>M</td>\n",
       "      <td>NSCLC-Radiomics</td>\n",
       "    </tr>\n",
       "    <tr>\n",
       "      <td>1</td>\n",
       "      <td>LUNG1-007</td>\n",
       "      <td>LUNG1-007</td>\n",
       "      <td>M</td>\n",
       "      <td>NSCLC-Radiomics</td>\n",
       "    </tr>\n",
       "    <tr>\n",
       "      <td>2</td>\n",
       "      <td>LUNG1-029</td>\n",
       "      <td>LUNG1-029</td>\n",
       "      <td>F</td>\n",
       "      <td>NSCLC-Radiomics</td>\n",
       "    </tr>\n",
       "    <tr>\n",
       "      <td>3</td>\n",
       "      <td>LUNG1-036</td>\n",
       "      <td>LUNG1-036</td>\n",
       "      <td>F</td>\n",
       "      <td>NSCLC-Radiomics</td>\n",
       "    </tr>\n",
       "    <tr>\n",
       "      <td>4</td>\n",
       "      <td>LUNG1-056</td>\n",
       "      <td>LUNG1-056</td>\n",
       "      <td>F</td>\n",
       "      <td>NSCLC-Radiomics</td>\n",
       "    </tr>\n",
       "  </tbody>\n",
       "</table>\n",
       "</div>"
      ],
      "text/plain": [
       "   PatientID PatientName PatientSex       Collection\n",
       "0  LUNG1-001   LUNG1-001          M  NSCLC-Radiomics\n",
       "1  LUNG1-007   LUNG1-007          M  NSCLC-Radiomics\n",
       "2  LUNG1-029   LUNG1-029          F  NSCLC-Radiomics\n",
       "3  LUNG1-036   LUNG1-036          F  NSCLC-Radiomics\n",
       "4  LUNG1-056   LUNG1-056          F  NSCLC-Radiomics"
      ]
     },
     "execution_count": 141,
     "metadata": {},
     "output_type": "execute_result"
    }
   ],
   "source": [
    "import pandas as pd\n",
    "collection_df = pd.DataFrame(collection); collection_df.head()"
   ]
  },
  {
   "cell_type": "code",
   "execution_count": null,
   "metadata": {},
   "outputs": [],
   "source": [
    "for c in collection:\n",
    "    c[\"PatientID\"]"
   ]
  },
  {
   "cell_type": "code",
   "execution_count": 134,
   "metadata": {
    "scrolled": true
   },
   "outputs": [],
   "source": [
    "studies = tc.get_patient_study(collection=collection_name, patientId=collection[0][\"PatientID\"])"
   ]
  },
  {
   "cell_type": "code",
   "execution_count": 135,
   "metadata": {},
   "outputs": [
    {
     "data": {
      "text/plain": [
       "[{'Collection': 'NSCLC-Radiomics',\n",
       "  'PatientID': 'LUNG1-001',\n",
       "  'PatientName': 'LUNG1-001',\n",
       "  'PatientSex': 'M',\n",
       "  'StudyInstanceUID': '1.3.6.1.4.1.32722.99.99.239341353911714368772597187099978969331',\n",
       "  'StudyDate': '2008-09-18',\n",
       "  'PatientAge': '083Y',\n",
       "  'SeriesCount': 3}]"
      ]
     },
     "execution_count": 135,
     "metadata": {},
     "output_type": "execute_result"
    }
   ],
   "source": [
    "studies"
   ]
  },
  {
   "cell_type": "code",
   "execution_count": 127,
   "metadata": {},
   "outputs": [],
   "source": [
    "series = tc.get_series(studyInstanceUid=studies[0][\"StudyInstanceUID\"])"
   ]
  },
  {
   "cell_type": "code",
   "execution_count": 128,
   "metadata": {},
   "outputs": [
    {
     "data": {
      "text/plain": [
       "[{'PatientID': 'LUNG1-001',\n",
       "  'StudyInstanceUID': '1.3.6.1.4.1.32722.99.99.239341353911714368772597187099978969331',\n",
       "  'SeriesInstanceUID': '1.3.6.1.4.1.32722.99.99.298991776521342375010861296712563382046',\n",
       "  'Modality': 'CT',\n",
       "  'ProtocolName': 'RCCTPET_THORAX_CONTRAST_dag0',\n",
       "  'SeriesDate': '2008-09-18',\n",
       "  'BodyPartExamined': 'LUNG',\n",
       "  'SeriesNumber': '0.000000',\n",
       "  'Collection': 'NSCLC-Radiomics',\n",
       "  'Manufacturer': 'SIEMENS',\n",
       "  'ManufacturerModelName': 'Biograph 40',\n",
       "  'SoftwareVersions': 'syngo CT 2006A',\n",
       "  'Visibility': '1',\n",
       "  'ImageCount': 134},\n",
       " {'PatientID': 'LUNG1-001',\n",
       "  'StudyInstanceUID': '1.3.6.1.4.1.32722.99.99.239341353911714368772597187099978969331',\n",
       "  'SeriesInstanceUID': '1.2.276.0.7230010.3.1.3.2323910823.20524.1597260509.554',\n",
       "  'Modality': 'SEG',\n",
       "  'SeriesDate': '2020-08-12',\n",
       "  'SeriesDescription': 'Segmentation',\n",
       "  'BodyPartExamined': 'LUNG',\n",
       "  'SeriesNumber': '300.000000',\n",
       "  'Collection': 'NSCLC-Radiomics',\n",
       "  'Manufacturer': 'QIICR',\n",
       "  'ManufacturerModelName': 'https://github.com/qiicr/dcmqi.git',\n",
       "  'SoftwareVersions': '3efde87',\n",
       "  'Visibility': '1',\n",
       "  'ImageCount': 1},\n",
       " {'PatientID': 'LUNG1-001',\n",
       "  'StudyInstanceUID': '1.3.6.1.4.1.32722.99.99.239341353911714368772597187099978969331',\n",
       "  'SeriesInstanceUID': '1.3.6.1.4.1.32722.99.99.227938121586608072508444156170535578236',\n",
       "  'Modality': 'RTSTRUCT',\n",
       "  'SeriesNumber': '3.000000',\n",
       "  'Collection': 'NSCLC-Radiomics',\n",
       "  'Manufacturer': 'Varian Medical Systems',\n",
       "  'ManufacturerModelName': 'ARIA RadOnc',\n",
       "  'SoftwareVersions': '15.5.11',\n",
       "  'Visibility': '1',\n",
       "  'ImageCount': 1}]"
      ]
     },
     "execution_count": 128,
     "metadata": {},
     "output_type": "execute_result"
    }
   ],
   "source": [
    "series"
   ]
  },
  {
   "cell_type": "code",
   "execution_count": 111,
   "metadata": {},
   "outputs": [
    {
     "data": {
      "text/plain": [
       "True"
      ]
     },
     "execution_count": 111,
     "metadata": {},
     "output_type": "execute_result"
    }
   ],
   "source": [
    "tc.get_image(seriesInstanceUid = z[0][\"SeriesInstanceUID\"],\n",
    "             downloadPath  =\"./\", zipFileName =\"images.zip\")"
   ]
  },
  {
   "cell_type": "code",
   "execution_count": 59,
   "metadata": {},
   "outputs": [
    {
     "name": "stdout",
     "output_type": "stream",
     "text": [
      "Converted 00_core.ipynb.\n",
      "Converted index.ipynb.\n"
     ]
    }
   ],
   "source": [
    "#hide\n",
    "from nbdev.export import notebook2script; notebook2script()"
   ]
  },
  {
   "cell_type": "code",
   "execution_count": null,
   "metadata": {},
   "outputs": [],
   "source": []
  }
 ],
 "metadata": {
  "kernelspec": {
   "display_name": "Python 3",
   "language": "python",
   "name": "python3"
  },
  "language_info": {
   "codemirror_mode": {
    "name": "ipython",
    "version": 3
   },
   "file_extension": ".py",
   "mimetype": "text/x-python",
   "name": "python",
   "nbconvert_exporter": "python",
   "pygments_lexer": "ipython3",
   "version": "3.7.4"
  }
 },
 "nbformat": 4,
 "nbformat_minor": 2
}
