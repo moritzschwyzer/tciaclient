{
 "cells": [
  {
   "cell_type": "code",
   "execution_count": null,
   "metadata": {},
   "outputs": [],
   "source": [
    "# default_exp core"
   ]
  },
  {
   "cell_type": "markdown",
   "metadata": {},
   "source": [
    "# tciaclient\n",
    "\n",
    "> A TCIA (The Cancer Imaging Archive) download client for Python."
   ]
  },
  {
   "cell_type": "code",
   "execution_count": 1,
   "metadata": {},
   "outputs": [],
   "source": [
    "#hide\n",
    "from nbdev.showdoc import *"
   ]
  },
  {
   "cell_type": "code",
   "execution_count": 2,
   "metadata": {},
   "outputs": [],
   "source": [
    "#export\n",
    "import os\n",
    "import urllib.request, urllib.error, urllib.parse\n",
    "import urllib.request, urllib.parse, urllib.error\n",
    "import sys\n",
    "import math"
   ]
  },
  {
   "cell_type": "code",
   "execution_count": 9,
   "metadata": {},
   "outputs": [],
   "source": [
    "#export\n",
    "class TCIAClient:\n",
    "    GET_IMAGE = \"getImage\"\n",
    "    GET_MANUFACTURER_VALUES = \"getManufacturerValues\"\n",
    "    GET_MODALITY_VALUES = \"getModalityValues\"\n",
    "    GET_COLLECTION_VALUES = \"getCollectionValues\"\n",
    "    GET_BODY_PART_VALUES = \"getBodyPartValues\"\n",
    "    GET_PATIENT_STUDY = \"getPatientStudy\"\n",
    "    GET_SERIES = \"getSeries\"\n",
    "    GET_PATIENT = \"getPatient\"\n",
    "    GET_SERIES_SIZE = \"getSeriesSize\"\n",
    "    CONTENTS_BY_NAME = \"ContentsByName\"\n",
    "\n",
    "    def __init__(self, baseUrl=\"https://services.cancerimagingarchive.net/services/v4\", resource=\"TCIA\"):\n",
    "        self.baseUrl = baseUrl + \"/\" + resource\n",
    "\n",
    "    def execute(self, url, queryParameters={}):\n",
    "        queryParameters = dict((k, v) for k, v in queryParameters.items() if v)\n",
    "        queryString = \"?%s\" % urllib.parse.urlencode(queryParameters)\n",
    "        requestUrl = url + queryString\n",
    "        request = urllib.request.Request(url=requestUrl)\n",
    "        resp = urllib.request.urlopen(request)\n",
    "        return resp\n",
    "\n",
    "    def get_modality_values(self,collection = None , bodyPartExamined = None , modality = None , outputFormat = \"json\" ):\n",
    "        serviceUrl = self.baseUrl + \"/query/\" + self.GET_MODALITY_VALUES\n",
    "        queryParameters = {\"Collection\" : collection , \"BodyPartExamined\" : bodyPartExamined , \"Modality\" : modality , \"format\" : outputFormat }\n",
    "        resp = self.execute(serviceUrl , queryParameters)\n",
    "        return resp\n",
    "\n",
    "    def get_series_size(self, SeriesInstanceUID = None, outputFormat = \"json\"):\n",
    "        serviceUrl = self.baseUrl + \"/query/\" + self.GET_SERIES_SIZE\n",
    "        queryParameters = {\"SeriesInstanceUID\" : SeriesInstanceUID, \"format\" :\n",
    "                           outputFormat}\n",
    "        resp = self.execute(serviceUrl, queryParameters)\n",
    "        return resp\n",
    "\n",
    "    def contents_by_name(self, name = None):\n",
    "        serviceUrl = self.baseUrl + \"/query/\" + self.CONTENTS_BY_NAME\n",
    "        queryParameters = {\"name\" : name}\n",
    "        print(serviceUrl)\n",
    "        resp = self.execute(serviceUrl,queryParameters)\n",
    "        return resp\n",
    "\n",
    "    def get_manufacturer_values(self,collection = None , bodyPartExamined = None, modality = None , outputFormat = \"json\"):\n",
    "        serviceUrl = self.baseUrl + \"/query/\" + self.GET_MANUFACTURER_VALUES\n",
    "        queryParameters = {\"Collection\" : collection , \"BodyPartExamined\" : bodyPartExamined , \"Modality\" : modality , \"format\" : outputFormat }\n",
    "        resp = self.execute(serviceUrl , queryParameters)\n",
    "        return resp\n",
    "\n",
    "    def get_collection_values(self,outputFormat = \"json\" ):\n",
    "        serviceUrl = self.baseUrl + \"/query/\" + self.GET_COLLECTION_VALUES\n",
    "        queryParameters = { \"format\" : outputFormat }\n",
    "        resp = self.execute(serviceUrl , queryParameters)\n",
    "        return resp\n",
    "\n",
    "    def get_body_part_values(self,collection = None , bodyPartExamined = None , modality = None , outputFormat = \"json\" ):\n",
    "        serviceUrl = self.baseUrl + \"/query/\" + self.GET_BODY_PART_VALUES\n",
    "        queryParameters = {\"Collection\" : collection , \"BodyPartExamined\" : bodyPartExamined , \"Modality\" : modality , \"format\" : outputFormat }\n",
    "        resp = self.execute(serviceUrl , queryParameters)\n",
    "        return resp\n",
    "\n",
    "    def get_patient_study(self,collection = None , patientId = None , studyInstanceUid = None , outputFormat = \"json\" ):\n",
    "        serviceUrl = self.baseUrl + \"/query/\" + self.GET_PATIENT_STUDY\n",
    "        queryParameters = {\"Collection\" : collection , \"PatientID\" : patientId , \"StudyInstanceUID\" : studyInstanceUid , \"format\" : outputFormat }\n",
    "        resp = self.execute(serviceUrl , queryParameters)\n",
    "        return resp\n",
    "\n",
    "    def get_series(self, collection = None , modality = None , studyInstanceUid = None , outputFormat = \"json\" ):\n",
    "        serviceUrl = self.baseUrl + \"/query/\" + self.GET_SERIES\n",
    "        queryParameters = {\"Collection\" : collection , \"StudyInstanceUID\" : studyInstanceUid , \"Modality\" : modality , \"format\" : outputFormat }\n",
    "        resp = self.execute(serviceUrl , queryParameters)\n",
    "        return resp\n",
    "\n",
    "    def get_patient(self,collection = None , outputFormat = \"json\" ):\n",
    "        serviceUrl = self.baseUrl + \"/query/\" + self.GET_PATIENT\n",
    "        queryParameters = {\"Collection\" : collection , \"format\" : outputFormat }\n",
    "        resp = self.execute(serviceUrl , queryParameters)\n",
    "        return resp\n",
    "\n",
    "    def get_image(self , seriesInstanceUid , downloadPath, zipFileName):\n",
    "        \"Get a set of images as a zip file\"\n",
    "        serviceUrl = self.baseUrl + \"/query/\" + self.GET_IMAGE\n",
    "        queryParameters = { \"SeriesInstanceUID\" : seriesInstanceUid }\n",
    "        os.umask(0o002)\n",
    "        try:\n",
    "            file = os.path.join(downloadPath, zipFileName)\n",
    "            resp = self.execute( serviceUrl , queryParameters)\n",
    "            downloaded = 0\n",
    "            CHUNK = 256 * 10240\n",
    "            with open(file, 'wb') as fp:\n",
    "                while True:\n",
    "                    chunk = resp.read(CHUNK)\n",
    "                    downloaded += len(chunk)\n",
    "                    if not chunk: break\n",
    "                    fp.write(chunk)\n",
    "        except urllib.error.HTTPError as e:\n",
    "            print(\"HTTP Error:\",e.code , serviceUrl)\n",
    "            return False\n",
    "        except urllib.error.URLError as e:\n",
    "            print(\"URL Error:\",e.reason , serviceUrl)\n",
    "            return False\n",
    "\n",
    "        return True"
   ]
  },
  {
   "cell_type": "code",
   "execution_count": 10,
   "metadata": {},
   "outputs": [],
   "source": [
    "tc = TCIAClient()"
   ]
  },
  {
   "cell_type": "code",
   "execution_count": 12,
   "metadata": {},
   "outputs": [
    {
     "data": {
      "text/plain": [
       "True"
      ]
     },
     "execution_count": 12,
     "metadata": {},
     "output_type": "execute_result"
    }
   ],
   "source": [
    "tc.get_image(seriesInstanceUid =\"1.3.6.1.4.1.14519.5.2.1.7695.4001.306204232344341694648035234440\",\n",
    "             downloadPath  =\"./\", zipFileName =\"images.zip\")"
   ]
  },
  {
   "cell_type": "code",
   "execution_count": null,
   "metadata": {},
   "outputs": [],
   "source": []
  }
 ],
 "metadata": {
  "kernelspec": {
   "display_name": "Python 3",
   "language": "python",
   "name": "python3"
  },
  "language_info": {
   "codemirror_mode": {
    "name": "ipython",
    "version": 3
   },
   "file_extension": ".py",
   "mimetype": "text/x-python",
   "name": "python",
   "nbconvert_exporter": "python",
   "pygments_lexer": "ipython3",
   "version": "3.7.4"
  }
 },
 "nbformat": 4,
 "nbformat_minor": 2
}
